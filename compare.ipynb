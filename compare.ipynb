{
 "cells": [
  {
   "cell_type": "markdown",
   "metadata": {},
   "source": [
    "# Introduction\n",
    "\n",
    "This project sets out to compare and analyze the success of the top performing books as movies.\n",
    "\n",
    "The movie is never as good as the book was right? That is the very question we are seeking to find out with this project.\n",
    "\n",
    "\n",
    "*This project will attempt to answer the following questions:* \n",
    "\n",
    "- Does publishing more books equate to more and better movies?\n",
    "- Does the filming location matter for better ratings?\n",
    "- Are older or newer published books more popular as movies?\n",
    "\n",
    "## Methodology\n",
    "\n",
    "Book data was taken from the [10000 Good Books DataSet](https://www.kaggle.com/datasets/zygmunt/goodbooks-10k?select=books.csv) and the Movie data was taken from the [Top 100 popular movies from 2003 to 2022 (iMDB)](https://www.kaggle.com/datasets/georgescutelnicu/top-100-popular-movies-from-2003-to-2022-imdb).\n",
    "\n",
    "\n",
    "## Results\n",
    " \n",
    "### 1. Import Libraries\n",
    "    "
   ]
  },
  {
   "cell_type": "code",
   "execution_count": 143,
   "metadata": {},
   "outputs": [],
   "source": [
    "import pandas as pd\n",
    "import numpy as np\n",
    "import matplotlib as mpl\n",
    "import matplotlib.pyplot as plt\n",
    "import requests"
   ]
  },
  {
   "cell_type": "markdown",
   "metadata": {},
   "source": [
    "### 2. Import and clean the Book and Movie Data"
   ]
  },
  {
   "cell_type": "code",
   "execution_count": 2,
   "metadata": {},
   "outputs": [
    {
     "data": {
      "text/plain": [
       "Index(['id', 'book_id', 'best_book_id', 'work_id', 'books_count', 'isbn',\n",
       "       'isbn13', 'authors', 'original_publication_year', 'original_title',\n",
       "       'title', 'language_code', 'average_rating', 'ratings_count',\n",
       "       'work_ratings_count', 'work_text_reviews_count', 'ratings_1',\n",
       "       'ratings_2', 'ratings_3', 'ratings_4', 'ratings_5', 'image_url',\n",
       "       'small_image_url'],\n",
       "      dtype='object')"
      ]
     },
     "execution_count": 2,
     "metadata": {},
     "output_type": "execute_result"
    }
   ],
   "source": [
    "top_books = pd.read_csv(\"books.csv\")\n",
    "\n",
    "top_books.dropna()\n",
    "\n",
    "top_books.columns"
   ]
  },
  {
   "cell_type": "markdown",
   "metadata": {},
   "source": [
    "### 3. Explore the Data\n",
    "\n",
    "#### Question 1: Does publishing more books equate to more and better movies?"
   ]
  },
  {
   "cell_type": "code",
   "execution_count": 3,
   "metadata": {},
   "outputs": [],
   "source": [
    "top_books.drop(['id', 'book_id', 'best_book_id', 'work_id', 'isbn', ], axis=1, inplace=True)"
   ]
  },
  {
   "cell_type": "markdown",
   "metadata": {},
   "source": [
    "### Findings\n",
    "\n",
    "* The average number of passengers had already began to decline starting in 2013 but took a steeper drop from 1.56 people in 2019 to 1.41 people in 2020.\n",
    "* Rides did recover a bit in 2021 but went back down in 2022.\n",
    "* The pandemic had an impact on the average rider count but not as significant as hypothesized at the outset."
   ]
  },
  {
   "cell_type": "code",
   "execution_count": 4,
   "metadata": {},
   "outputs": [
    {
     "data": {
      "text/html": [
       "<div>\n",
       "<style scoped>\n",
       "    .dataframe tbody tr th:only-of-type {\n",
       "        vertical-align: middle;\n",
       "    }\n",
       "\n",
       "    .dataframe tbody tr th {\n",
       "        vertical-align: top;\n",
       "    }\n",
       "\n",
       "    .dataframe thead th {\n",
       "        text-align: right;\n",
       "    }\n",
       "</style>\n",
       "<table border=\"1\" class=\"dataframe\">\n",
       "  <thead>\n",
       "    <tr style=\"text-align: right;\">\n",
       "      <th></th>\n",
       "      <th>books_count</th>\n",
       "      <th>isbn13</th>\n",
       "      <th>authors</th>\n",
       "      <th>original_publication_year</th>\n",
       "      <th>original_title</th>\n",
       "      <th>title</th>\n",
       "      <th>language_code</th>\n",
       "      <th>average_rating</th>\n",
       "      <th>ratings_count</th>\n",
       "      <th>work_ratings_count</th>\n",
       "      <th>work_text_reviews_count</th>\n",
       "      <th>ratings_1</th>\n",
       "      <th>ratings_2</th>\n",
       "      <th>ratings_3</th>\n",
       "      <th>ratings_4</th>\n",
       "      <th>ratings_5</th>\n",
       "      <th>image_url</th>\n",
       "      <th>small_image_url</th>\n",
       "    </tr>\n",
       "  </thead>\n",
       "  <tbody>\n",
       "    <tr>\n",
       "      <th>3627</th>\n",
       "      <td>14</td>\n",
       "      <td>9.780741e+12</td>\n",
       "      <td>Bill Watterson</td>\n",
       "      <td>2005.0</td>\n",
       "      <td>The Complete Calvin and Hobbes</td>\n",
       "      <td>The Complete Calvin and Hobbes</td>\n",
       "      <td>eng</td>\n",
       "      <td>4.82</td>\n",
       "      <td>28900</td>\n",
       "      <td>29968</td>\n",
       "      <td>861</td>\n",
       "      <td>120</td>\n",
       "      <td>154</td>\n",
       "      <td>693</td>\n",
       "      <td>3117</td>\n",
       "      <td>25884</td>\n",
       "      <td>https://images.gr-assets.com/books/1473064526m...</td>\n",
       "      <td>https://images.gr-assets.com/books/1473064526s...</td>\n",
       "    </tr>\n",
       "    <tr>\n",
       "      <th>3274</th>\n",
       "      <td>11</td>\n",
       "      <td>9.780440e+12</td>\n",
       "      <td>J.K. Rowling, Mary GrandPré</td>\n",
       "      <td>2003.0</td>\n",
       "      <td>NaN</td>\n",
       "      <td>Harry Potter Boxed Set, Books 1-5 (Harry Potte...</td>\n",
       "      <td>eng</td>\n",
       "      <td>4.77</td>\n",
       "      <td>33220</td>\n",
       "      <td>33424</td>\n",
       "      <td>156</td>\n",
       "      <td>317</td>\n",
       "      <td>233</td>\n",
       "      <td>978</td>\n",
       "      <td>3686</td>\n",
       "      <td>28210</td>\n",
       "      <td>https://s.gr-assets.com/assets/nophoto/book/11...</td>\n",
       "      <td>https://s.gr-assets.com/assets/nophoto/book/50...</td>\n",
       "    </tr>\n",
       "    <tr>\n",
       "      <th>861</th>\n",
       "      <td>34</td>\n",
       "      <td>9.780765e+12</td>\n",
       "      <td>Brandon Sanderson</td>\n",
       "      <td>2014.0</td>\n",
       "      <td>Words of Radiance</td>\n",
       "      <td>Words of Radiance (The Stormlight Archive, #2)</td>\n",
       "      <td>eng</td>\n",
       "      <td>4.77</td>\n",
       "      <td>73572</td>\n",
       "      <td>108176</td>\n",
       "      <td>7261</td>\n",
       "      <td>154</td>\n",
       "      <td>404</td>\n",
       "      <td>2653</td>\n",
       "      <td>18272</td>\n",
       "      <td>86693</td>\n",
       "      <td>https://images.gr-assets.com/books/1391535251m...</td>\n",
       "      <td>https://images.gr-assets.com/books/1391535251s...</td>\n",
       "    </tr>\n",
       "    <tr>\n",
       "      <th>8853</th>\n",
       "      <td>6</td>\n",
       "      <td>9.780842e+12</td>\n",
       "      <td>Francine Rivers</td>\n",
       "      <td>1993.0</td>\n",
       "      <td>Mark of the Lion Trilogy</td>\n",
       "      <td>Mark of the Lion Trilogy</td>\n",
       "      <td>en-US</td>\n",
       "      <td>4.76</td>\n",
       "      <td>9081</td>\n",
       "      <td>9547</td>\n",
       "      <td>731</td>\n",
       "      <td>27</td>\n",
       "      <td>61</td>\n",
       "      <td>323</td>\n",
       "      <td>1363</td>\n",
       "      <td>7773</td>\n",
       "      <td>https://images.gr-assets.com/books/1349032180m...</td>\n",
       "      <td>https://images.gr-assets.com/books/1349032180s...</td>\n",
       "    </tr>\n",
       "    <tr>\n",
       "      <th>7946</th>\n",
       "      <td>96</td>\n",
       "      <td>9.781434e+12</td>\n",
       "      <td>Anonymous, Lane T. Dennis, Wayne A. Grudem</td>\n",
       "      <td>2002.0</td>\n",
       "      <td>NaN</td>\n",
       "      <td>ESV Study Bible</td>\n",
       "      <td>eng</td>\n",
       "      <td>4.76</td>\n",
       "      <td>8953</td>\n",
       "      <td>10784</td>\n",
       "      <td>262</td>\n",
       "      <td>98</td>\n",
       "      <td>90</td>\n",
       "      <td>367</td>\n",
       "      <td>1152</td>\n",
       "      <td>9077</td>\n",
       "      <td>https://images.gr-assets.com/books/1410151002m...</td>\n",
       "      <td>https://images.gr-assets.com/books/1410151002s...</td>\n",
       "    </tr>\n",
       "    <tr>\n",
       "      <th>...</th>\n",
       "      <td>...</td>\n",
       "      <td>...</td>\n",
       "      <td>...</td>\n",
       "      <td>...</td>\n",
       "      <td>...</td>\n",
       "      <td>...</td>\n",
       "      <td>...</td>\n",
       "      <td>...</td>\n",
       "      <td>...</td>\n",
       "      <td>...</td>\n",
       "      <td>...</td>\n",
       "      <td>...</td>\n",
       "      <td>...</td>\n",
       "      <td>...</td>\n",
       "      <td>...</td>\n",
       "      <td>...</td>\n",
       "      <td>...</td>\n",
       "      <td>...</td>\n",
       "    </tr>\n",
       "    <tr>\n",
       "      <th>9020</th>\n",
       "      <td>18</td>\n",
       "      <td>9.780061e+12</td>\n",
       "      <td>Gregory Maguire, Douglas Smith</td>\n",
       "      <td>2001.0</td>\n",
       "      <td>Lost</td>\n",
       "      <td>Lost</td>\n",
       "      <td>eng</td>\n",
       "      <td>2.80</td>\n",
       "      <td>12534</td>\n",
       "      <td>12937</td>\n",
       "      <td>921</td>\n",
       "      <td>1749</td>\n",
       "      <td>3377</td>\n",
       "      <td>4518</td>\n",
       "      <td>2237</td>\n",
       "      <td>1056</td>\n",
       "      <td>https://images.gr-assets.com/books/1407711681m...</td>\n",
       "      <td>https://images.gr-assets.com/books/1407711681s...</td>\n",
       "    </tr>\n",
       "    <tr>\n",
       "      <th>4008</th>\n",
       "      <td>57</td>\n",
       "      <td>9.780802e+12</td>\n",
       "      <td>Candace Bushnell</td>\n",
       "      <td>2000.0</td>\n",
       "      <td>Four Blondes</td>\n",
       "      <td>Four Blondes</td>\n",
       "      <td>NaN</td>\n",
       "      <td>2.80</td>\n",
       "      <td>22278</td>\n",
       "      <td>23272</td>\n",
       "      <td>943</td>\n",
       "      <td>3921</td>\n",
       "      <td>5722</td>\n",
       "      <td>7219</td>\n",
       "      <td>3904</td>\n",
       "      <td>2506</td>\n",
       "      <td>https://s.gr-assets.com/assets/nophoto/book/11...</td>\n",
       "      <td>https://s.gr-assets.com/assets/nophoto/book/50...</td>\n",
       "    </tr>\n",
       "    <tr>\n",
       "      <th>8006</th>\n",
       "      <td>45</td>\n",
       "      <td>9.781409e+12</td>\n",
       "      <td>Howard Jacobson</td>\n",
       "      <td>2010.0</td>\n",
       "      <td>The Finkler Question</td>\n",
       "      <td>The Finkler Question</td>\n",
       "      <td>eng</td>\n",
       "      <td>2.76</td>\n",
       "      <td>9627</td>\n",
       "      <td>12062</td>\n",
       "      <td>1913</td>\n",
       "      <td>1887</td>\n",
       "      <td>3046</td>\n",
       "      <td>3909</td>\n",
       "      <td>2466</td>\n",
       "      <td>754</td>\n",
       "      <td>https://images.gr-assets.com/books/1319018978m...</td>\n",
       "      <td>https://images.gr-assets.com/books/1319018978s...</td>\n",
       "    </tr>\n",
       "    <tr>\n",
       "      <th>3549</th>\n",
       "      <td>63</td>\n",
       "      <td>9.780317e+12</td>\n",
       "      <td>Alice Sebold</td>\n",
       "      <td>2007.0</td>\n",
       "      <td>The Almost Moon</td>\n",
       "      <td>The Almost Moon</td>\n",
       "      <td>eng</td>\n",
       "      <td>2.67</td>\n",
       "      <td>28299</td>\n",
       "      <td>31183</td>\n",
       "      <td>5223</td>\n",
       "      <td>5670</td>\n",
       "      <td>8233</td>\n",
       "      <td>9978</td>\n",
       "      <td>5312</td>\n",
       "      <td>1990</td>\n",
       "      <td>https://images.gr-assets.com/books/1310421579m...</td>\n",
       "      <td>https://images.gr-assets.com/books/1310421579s...</td>\n",
       "    </tr>\n",
       "    <tr>\n",
       "      <th>1792</th>\n",
       "      <td>25</td>\n",
       "      <td>9.780345e+12</td>\n",
       "      <td>Chetan Bhagat</td>\n",
       "      <td>2005.0</td>\n",
       "      <td>One Night @ The Call Center</td>\n",
       "      <td>One Night at the Call Center</td>\n",
       "      <td>eng</td>\n",
       "      <td>2.47</td>\n",
       "      <td>40718</td>\n",
       "      <td>44833</td>\n",
       "      <td>1244</td>\n",
       "      <td>10559</td>\n",
       "      <td>14125</td>\n",
       "      <td>11872</td>\n",
       "      <td>5177</td>\n",
       "      <td>3100</td>\n",
       "      <td>https://images.gr-assets.com/books/1320500924m...</td>\n",
       "      <td>https://images.gr-assets.com/books/1320500924s...</td>\n",
       "    </tr>\n",
       "  </tbody>\n",
       "</table>\n",
       "<p>10000 rows × 18 columns</p>\n",
       "</div>"
      ],
      "text/plain": [
       "      books_count        isbn13                                     authors  \\\n",
       "3627           14  9.780741e+12                              Bill Watterson   \n",
       "3274           11  9.780440e+12                 J.K. Rowling, Mary GrandPré   \n",
       "861            34  9.780765e+12                           Brandon Sanderson   \n",
       "8853            6  9.780842e+12                             Francine Rivers   \n",
       "7946           96  9.781434e+12  Anonymous, Lane T. Dennis, Wayne A. Grudem   \n",
       "...           ...           ...                                         ...   \n",
       "9020           18  9.780061e+12              Gregory Maguire, Douglas Smith   \n",
       "4008           57  9.780802e+12                            Candace Bushnell   \n",
       "8006           45  9.781409e+12                             Howard Jacobson   \n",
       "3549           63  9.780317e+12                                Alice Sebold   \n",
       "1792           25  9.780345e+12                               Chetan Bhagat   \n",
       "\n",
       "      original_publication_year                  original_title  \\\n",
       "3627                     2005.0  The Complete Calvin and Hobbes   \n",
       "3274                     2003.0                             NaN   \n",
       "861                      2014.0               Words of Radiance   \n",
       "8853                     1993.0        Mark of the Lion Trilogy   \n",
       "7946                     2002.0                             NaN   \n",
       "...                         ...                             ...   \n",
       "9020                     2001.0                            Lost   \n",
       "4008                     2000.0                    Four Blondes   \n",
       "8006                     2010.0            The Finkler Question   \n",
       "3549                     2007.0                 The Almost Moon   \n",
       "1792                     2005.0     One Night @ The Call Center   \n",
       "\n",
       "                                                  title language_code  \\\n",
       "3627                     The Complete Calvin and Hobbes           eng   \n",
       "3274  Harry Potter Boxed Set, Books 1-5 (Harry Potte...           eng   \n",
       "861      Words of Radiance (The Stormlight Archive, #2)           eng   \n",
       "8853                           Mark of the Lion Trilogy         en-US   \n",
       "7946                                    ESV Study Bible           eng   \n",
       "...                                                 ...           ...   \n",
       "9020                                               Lost           eng   \n",
       "4008                                       Four Blondes           NaN   \n",
       "8006                               The Finkler Question           eng   \n",
       "3549                                    The Almost Moon           eng   \n",
       "1792                       One Night at the Call Center           eng   \n",
       "\n",
       "      average_rating  ratings_count  work_ratings_count  \\\n",
       "3627            4.82          28900               29968   \n",
       "3274            4.77          33220               33424   \n",
       "861             4.77          73572              108176   \n",
       "8853            4.76           9081                9547   \n",
       "7946            4.76           8953               10784   \n",
       "...              ...            ...                 ...   \n",
       "9020            2.80          12534               12937   \n",
       "4008            2.80          22278               23272   \n",
       "8006            2.76           9627               12062   \n",
       "3549            2.67          28299               31183   \n",
       "1792            2.47          40718               44833   \n",
       "\n",
       "      work_text_reviews_count  ratings_1  ratings_2  ratings_3  ratings_4  \\\n",
       "3627                      861        120        154        693       3117   \n",
       "3274                      156        317        233        978       3686   \n",
       "861                      7261        154        404       2653      18272   \n",
       "8853                      731         27         61        323       1363   \n",
       "7946                      262         98         90        367       1152   \n",
       "...                       ...        ...        ...        ...        ...   \n",
       "9020                      921       1749       3377       4518       2237   \n",
       "4008                      943       3921       5722       7219       3904   \n",
       "8006                     1913       1887       3046       3909       2466   \n",
       "3549                     5223       5670       8233       9978       5312   \n",
       "1792                     1244      10559      14125      11872       5177   \n",
       "\n",
       "      ratings_5                                          image_url  \\\n",
       "3627      25884  https://images.gr-assets.com/books/1473064526m...   \n",
       "3274      28210  https://s.gr-assets.com/assets/nophoto/book/11...   \n",
       "861       86693  https://images.gr-assets.com/books/1391535251m...   \n",
       "8853       7773  https://images.gr-assets.com/books/1349032180m...   \n",
       "7946       9077  https://images.gr-assets.com/books/1410151002m...   \n",
       "...         ...                                                ...   \n",
       "9020       1056  https://images.gr-assets.com/books/1407711681m...   \n",
       "4008       2506  https://s.gr-assets.com/assets/nophoto/book/11...   \n",
       "8006        754  https://images.gr-assets.com/books/1319018978m...   \n",
       "3549       1990  https://images.gr-assets.com/books/1310421579m...   \n",
       "1792       3100  https://images.gr-assets.com/books/1320500924m...   \n",
       "\n",
       "                                        small_image_url  \n",
       "3627  https://images.gr-assets.com/books/1473064526s...  \n",
       "3274  https://s.gr-assets.com/assets/nophoto/book/50...  \n",
       "861   https://images.gr-assets.com/books/1391535251s...  \n",
       "8853  https://images.gr-assets.com/books/1349032180s...  \n",
       "7946  https://images.gr-assets.com/books/1410151002s...  \n",
       "...                                                 ...  \n",
       "9020  https://images.gr-assets.com/books/1407711681s...  \n",
       "4008  https://s.gr-assets.com/assets/nophoto/book/50...  \n",
       "8006  https://images.gr-assets.com/books/1319018978s...  \n",
       "3549  https://images.gr-assets.com/books/1310421579s...  \n",
       "1792  https://images.gr-assets.com/books/1320500924s...  \n",
       "\n",
       "[10000 rows x 18 columns]"
      ]
     },
     "execution_count": 4,
     "metadata": {},
     "output_type": "execute_result"
    }
   ],
   "source": [
    "top_books.sort_values('average_rating', ascending=False)"
   ]
  },
  {
   "cell_type": "markdown",
   "metadata": {},
   "source": [
    "#### Question 2: Does the filming location matter for better ratings?"
   ]
  },
  {
   "cell_type": "code",
   "execution_count": 51,
   "metadata": {},
   "outputs": [
    {
     "data": {
      "text/plain": [
       "authors\n",
       "George Orwell, Erich Fromm, Celâl Üster     1\n",
       "Harper Lee                                  2\n",
       "Khaled Hosseini                             3\n",
       "John Green                                  4\n",
       "F. Scott Fitzgerald                         5\n",
       "J.R.R. Tolkien                              6\n",
       "Dan Brown                                   7\n",
       "J.K. Rowling, Mary GrandPré                 8\n",
       "Suzanne Collins                             9\n",
       "Douglas Adams                              10\n",
       "Stephenie Meyer                            11\n",
       "Veronica Roth                              12\n",
       "Cassandra Clare                            13\n",
       "Bill Bryson                                14\n",
       "Sophie Kinsella                            15\n",
       "George R.R. Martin                         16\n",
       "Ken Follett                                17\n",
       "Dr. Seuss                                  18\n",
       "C.S. Lewis                                 19\n",
       "Jeffrey Archer                             20\n",
       "Orson Scott Card                           21\n",
       "Rick Riordan                               22\n",
       "Jodi Picoult                               23\n",
       "Jim Butcher                                24\n",
       "Patricia Cornwell                          25\n",
       "Tamora Pierce                              26\n",
       "Kristen Ashley                             27\n",
       "John Sandford                              28\n",
       "Michael Connelly                           29\n",
       "Janet Evanovich                            30\n",
       "John Grisham                               33\n",
       "David Baldacci                             34\n",
       "James Patterson                            36\n",
       "Meg Cabot                                  37\n",
       "Agatha Christie                            39\n",
       "Terry Pratchett                            42\n",
       "Dean Koontz                                47\n",
       "Nora Roberts                               59\n",
       "Stephen King                               60\n",
       "Name: authors, dtype: int64"
      ]
     },
     "execution_count": 51,
     "metadata": {},
     "output_type": "execute_result"
    }
   ],
   "source": [
    "top_author = top_books['authors'].value_counts().idxmax()\n",
    "author_book_count = pd.Series(top_books['authors'].value_counts(), index=top_books['authors'])\n",
    "author_book_count.drop_duplicates(inplace=True)\n",
    "author_book_count.sort_values(inplace=True)\n",
    "author_book_count"
   ]
  },
  {
   "cell_type": "markdown",
   "metadata": {},
   "source": [
    "### Findings\n",
    "\n",
    "* The number of cash payments in 2019 was 321,343 while the number of credit payments the same year was 851,437\n",
    "* The number of cash payments in 2020 was 321,204 while the number of credit payments the same year was 777,336\n",
    "* In 2019, roughly 73% of all payments were made with credit card. In 2020 that number decreased to roughly %71."
   ]
  },
  {
   "cell_type": "markdown",
   "metadata": {},
   "source": [
    "#### Question 3: Are older or newer published books more popular as movies?"
   ]
  },
  {
   "cell_type": "code",
   "execution_count": 72,
   "metadata": {},
   "outputs": [
    {
     "data": {
      "text/plain": [
       "<Axes: ylabel='Frequency'>"
      ]
     },
     "execution_count": 72,
     "metadata": {},
     "output_type": "execute_result"
    },
    {
     "data": {
      "image/png": "[encoded data removed]",
      "text/plain": [
       "<Figure size 640x480 with 1 Axes>"
      ]
     },
     "metadata": {},
     "output_type": "display_data"
    }
   ],
   "source": [
    "author_book_count.plot(kind='hist')"
   ]
  },
  {
   "cell_type": "markdown",
   "metadata": {},
   "source": []
  },
  {
   "cell_type": "code",
   "execution_count": 74,
   "metadata": {},
   "outputs": [
    {
     "data": {
      "text/plain": [
       "Index(['title', 'Rating', 'Year', 'Month', 'Certificate', 'Runtime',\n",
       "       'Directors', 'Stars', 'Genre', 'Filming_location', 'Budget', 'Income',\n",
       "       'Country_of_origin'],\n",
       "      dtype='object')"
      ]
     },
     "execution_count": 74,
     "metadata": {},
     "output_type": "execute_result"
    }
   ],
   "source": [
    "top_movies = pd.read_csv(\"movies.csv\")\n",
    "\n",
    "top_movies.dropna()\n",
    "\n",
    "top_movies.rename(columns={\"Title\": \"title\"}, inplace=True)\n",
    "top_movies.columns"
   ]
  },
  {
   "cell_type": "markdown",
   "metadata": {},
   "source": []
  },
  {
   "cell_type": "code",
   "execution_count": 150,
   "metadata": {},
   "outputs": [
    {
     "data": {
      "text/plain": [
       "Index(['books_count', 'isbn13', 'authors', 'original_publication_year',\n",
       "       'original_title', 'title', 'language_code', 'average_rating',\n",
       "       'ratings_count', 'work_ratings_count', 'work_text_reviews_count',\n",
       "       'ratings_1', 'ratings_2', 'ratings_3', 'ratings_4', 'ratings_5',\n",
       "       'image_url', 'small_image_url', 'Rating', 'Year', 'Month',\n",
       "       'Certificate', 'Runtime', 'Directors', 'Stars', 'Genre',\n",
       "       'Filming_location', 'Budget', 'Income', 'Country_of_origin'],\n",
       "      dtype='object')"
      ]
     },
     "execution_count": 150,
     "metadata": {},
     "output_type": "execute_result"
    }
   ],
   "source": [
    "both_lists = pd.merge(top_books, top_movies, on=\"title\")\n",
    "both_lists.columns"
   ]
  },
  {
   "cell_type": "markdown",
   "metadata": {},
   "source": []
  },
  {
   "cell_type": "code",
   "execution_count": 173,
   "metadata": {},
   "outputs": [
    {
     "data": {
      "text/plain": [
       "<Axes: xlabel='average_rating', ylabel='Filming_location'>"
      ]
     },
     "execution_count": 173,
     "metadata": {},
     "output_type": "execute_result"
    },
    {
     "data": {
      "image/png": "[encoded data removed]",
      "text/plain": [
       "<Figure size 640x480 with 1 Axes>"
      ]
     },
     "metadata": {},
     "output_type": "display_data"
    }
   ],
   "source": [
    "both_lists.plot.scatter(x='average_rating', y='Filming_location')"
   ]
  },
  {
   "cell_type": "markdown",
   "metadata": {},
   "source": []
  },
  {
   "cell_type": "code",
   "execution_count": 177,
   "metadata": {},
   "outputs": [
    {
     "data": {
      "text/plain": [
       "<Axes: xlabel='Rating', ylabel='original_publication_year'>"
      ]
     },
     "execution_count": 177,
     "metadata": {},
     "output_type": "execute_result"
    },
    {
     "data": {
      "image/png": "[encoded data removed]",
      "text/plain": [
       "<Figure size 640x480 with 1 Axes>"
      ]
     },
     "metadata": {},
     "output_type": "display_data"
    }
   ],
   "source": [
    "both_lists.plot.scatter(x='Rating', y='original_publication_year')"
   ]
  }
 ],
 "metadata": {
  "kernelspec": {
   "display_name": "Python 3.10.5 64-bit",
   "language": "python",
   "name": "python3"
  },
  "language_info": {
   "codemirror_mode": {
    "name": "ipython",
    "version": 3
   },
   "file_extension": ".py",
   "mimetype": "text/x-python",
   "name": "python",
   "nbconvert_exporter": "python",
   "pygments_lexer": "ipython3",
   "version": "3.10.5"
  },
  "orig_nbformat": 4,
  "vscode": {
   "interpreter": {
    "hash": "aee8b7b246df8f9039afb4144a1f6fd8d2ca17a180786b69acc140d282b71a49"
   }
  }
 },
 "nbformat": 4,
 "nbformat_minor": 2
}
